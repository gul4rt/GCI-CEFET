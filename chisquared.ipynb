{
 "cells": [
  {
   "cell_type": "code",
   "execution_count": null,
   "id": "f260eec2",
   "metadata": {},
   "outputs": [],
   "source": [
    "import pandas\n",
    "import numpy as np\n",
    "import matplotlib.pyplot as plt\n",
    "import seaborn\n",
    "import scipy.stats\n",
    "%matplotlib inline"
   ]
  },
  {
   "cell_type": "markdown",
   "id": "c8a65078",
   "metadata": {},
   "source": [
    "## ANÁLISE CHI-SQUARE: IMPACTO DO CONTEÚDO POLÍTICO POR FAIXA ETÁRIA"
   ]
  },
  {
   "cell_type": "code",
   "execution_count": null,
   "id": "2113d359",
   "metadata": {},
   "outputs": [],
   "source": [
    "df = pandas.read_csv('dataset.csv')\n",
    "print(f\"Dataset original: {len(df)} registros\")"
   ]
  },
  {
   "cell_type": "markdown",
   "id": "3f863912",
   "metadata": {},
   "source": [
    "### Limpando os dados (pra corrigir alguns valores do dataset)"
   ]
  },
  {
   "cell_type": "code",
   "execution_count": null,
   "id": "14e63334",
   "metadata": {},
   "outputs": [],
   "source": [
    "df_clean = df[df['Age'] >= 18].copy()\n",
    "print(f\"Após limpeza (idade >= 18): {len(df_clean)} registros\")"
   ]
  },
  {
   "cell_type": "markdown",
   "id": "2e0a2393",
   "metadata": {},
   "source": [
    "## Listagem do personal impact pra análise"
   ]
  },
  {
   "cell_type": "code",
   "execution_count": null,
   "id": "3e45f243",
   "metadata": {},
   "outputs": [],
   "source": [
    "print(df_clean['Personal Impact'].value_counts())"
   ]
  },
  {
   "cell_type": "markdown",
   "id": "3f791a60",
   "metadata": {},
   "source": [
    "## Criando grupos de idade"
   ]
  },
  {
   "cell_type": "code",
   "execution_count": null,
   "id": "0747e6c2",
   "metadata": {},
   "outputs": [],
   "source": [
    "def categorizar_idade(idade):\n",
    "    if 18 <= idade <= 30:\n",
    "        return 1  # Jovens\n",
    "    elif 31 <= idade <= 50:\n",
    "        return 2  # Adultos  \n",
    "    elif idade >= 51:\n",
    "        return 3  # Idosos\n",
    "        \n",
    "df_clean['FAIXAETARIA'] = df_clean['Age'].apply(categorizar_idade)"
   ]
  },
  {
   "cell_type": "markdown",
   "id": "cb49e483",
   "metadata": {},
   "source": [
    "## Criação de váriavel pra facilitar a análise (sim ou não)"
   ]
  },
  {
   "cell_type": "code",
   "execution_count": null,
   "id": "fd5daa74",
   "metadata": {},
   "outputs": [],
   "source": [
    "def categorizar_impacto(impacto):\n",
    "    if impacto in ['Strong impact', 'Moderate impact']:\n",
    "        return 1  # Com impacto\n",
    "    elif impacto == 'No impact':\n",
    "        return 0  # Sem impacto\n",
    "\n",
    "df_clean['IMPACTO'] = df_clean['Personal Impact'].apply(categorizar_impacto)"
   ]
  },
  {
   "cell_type": "markdown",
   "id": "1d36ff98",
   "metadata": {},
   "source": [
    "## Limpando valores nulos do dataset pra facilitar a análise"
   ]
  },
  {
   "cell_type": "code",
   "execution_count": null,
   "id": "6460a564",
   "metadata": {},
   "outputs": [],
   "source": [
    "sub2 = df_clean.dropna(subset=['FAIXAETARIA', 'IMPACTO']).copy()\n",
    "print(f\"Dataset final: {len(sub2)} registros\")"
   ]
  },
  {
   "cell_type": "markdown",
   "id": "56885056",
   "metadata": {},
   "source": [
    "## Tabela de contingência"
   ]
  },
  {
   "cell_type": "code",
   "execution_count": null,
   "id": "0fd70746",
   "metadata": {},
   "outputs": [],
   "source": [
    "ct1 = pandas.crosstab(sub2['IMPACTO'], sub2['FAIXAETARIA'])\n",
    "print(\"\\nTabela de Contingência:\")\n",
    "print(ct1)"
   ]
  },
  {
   "cell_type": "markdown",
   "id": "da568ac4",
   "metadata": {},
   "source": [
    "## Soma todos os valores por coluna e pego o porcentual por coluna"
   ]
  },
  {
   "cell_type": "code",
   "execution_count": null,
   "id": "8dcd3e80",
   "metadata": {},
   "outputs": [],
   "source": [
    "colsum = ct1.sum(axis=0)\n",
    "colpct = ct1/colsum\n",
    "\n",
    "print(\"\\nPercentuais por coluna (faixa etária):\")\n",
    "print(colpct)\n",
    "\n",
    "print('\\nValor de Qui-quadrado, Valor p, valores esperados')\n",
    "cs1 = scipy.stats.chi2_contingency(ct1)\n",
    "print(cs1)"
   ]
  },
  {
   "cell_type": "code",
   "execution_count": null,
   "id": "8dad2a8c",
   "metadata": {},
   "outputs": [],
   "source": [
    "sub2[\"FAIXAETARIA\"] = sub2[\"FAIXAETARIA\"].astype('category')\n",
    "\n",
    "sub2['IMPACTO'] = pandas.to_numeric(sub2['IMPACTO'], errors='coerce')"
   ]
  },
  {
   "cell_type": "markdown",
   "id": "50652333",
   "metadata": {},
   "source": [
    "## Gráfico"
   ]
  },
  {
   "cell_type": "code",
   "execution_count": null,
   "id": "87b486f0",
   "metadata": {},
   "outputs": [],
   "source": [
    "seaborn.catplot(x=\"FAIXAETARIA\", y=\"IMPACTO\", data=sub2, kind=\"bar\", ci=None)\n",
    "plt.xlabel('Faixa Etária (1=Jovens, 2=Adultos, 3=Idosos)')\n",
    "plt.ylabel('Proporção de Percepção de Impacto')\n",
    "plt.title('Percepção de Impacto por Faixa Etária')\n",
    "plt.show()"
   ]
  },
  {
   "cell_type": "markdown",
   "id": "d99cb057",
   "metadata": {},
   "source": [
    "## Jovens vs Idosos"
   ]
  },
  {
   "cell_type": "code",
   "execution_count": null,
   "id": "3f5e5099",
   "metadata": {},
   "outputs": [],
   "source": [
    "recode2 = {1: 1, 3: 3}  # 1=Jovens, 3=Idosos\n",
    "sub2['COMP1v3'] = sub2['FAIXAETARIA'].map(recode2)\n",
    "\n",
    "ct2 = pandas.crosstab(sub2['IMPACTO'], sub2['COMP1v3'])\n",
    "print(\"\\n\" + \"=\"*50)\n",
    "print(\"COMPARAÇÃO JOVENS vs IDOSOS\")\n",
    "print(\"=\"*50)\n",
    "print(ct2)"
   ]
  },
  {
   "cell_type": "markdown",
   "id": "38a7e438",
   "metadata": {},
   "source": [
    "## Percentuais por coluna"
   ]
  },
  {
   "cell_type": "code",
   "execution_count": null,
   "id": "cc3eaa3a",
   "metadata": {},
   "outputs": [],
   "source": [
    "colsum = ct2.sum(axis=0)\n",
    "colpct = ct2/colsum\n",
    "print(\"\\nPercentuais por coluna:\")\n",
    "print(colpct)\n",
    "\n",
    "print('\\nValor de Qui-quadrado, Valor p, Valores esperados')\n",
    "cs2 = scipy.stats.chi2_contingency(ct2)\n",
    "print(cs2)"
   ]
  },
  {
   "cell_type": "markdown",
   "id": "c6acbb9c",
   "metadata": {},
   "source": [
    "## Interpretação dos resultados"
   ]
  },
  {
   "cell_type": "code",
   "execution_count": null,
   "id": "fb32721e",
   "metadata": {},
   "outputs": [],
   "source": [
    "print(\"\\n\" + \"=\"*50)\n",
    "print(\"INTERPRETAÇÃO DOS RESULTADOS\")\n",
    "print(\"=\"*50)\n",
    "\n",
    "chi2_stat, p_value, dof, expected = cs1\n",
    "print(f\"Teste geral (todas as faixas etárias):\")\n",
    "print(f\"Chi-square: {chi2_stat:.4f}\")\n",
    "print(f\"P-valor: {p_value:.6f}\")\n",
    "print(f\"Significativo (p < 0.05): {'SIM' if p_value < 0.05 else 'NÃO'}\")\n",
    "\n",
    "chi2_stat2, p_value2, dof2, expected2 = cs2\n",
    "print(f\"\\nTeste específico (Jovens vs Idosos):\")\n",
    "print(f\"Chi-square: {chi2_stat2:.4f}\")\n",
    "print(f\"P-valor: {p_value2:.6f}\")\n",
    "print(f\"Significativo (p < 0.05): {'SIM' if p_value2 < 0.05 else 'NÃO'}\")\n"
   ]
  },
  {
   "cell_type": "markdown",
   "id": "5c7c722c",
   "metadata": {},
   "source": [
    "## Descritivo em %"
   ]
  },
  {
   "cell_type": "code",
   "execution_count": null,
   "id": "42f4e96d",
   "metadata": {},
   "outputs": [],
   "source": [
    "print(f\"\\n\" + \"=\"*50)\n",
    "print(\"ESTATÍSTICAS DESCRITIVAS\")\n",
    "print(\"=\"*50)\n",
    "\n",
    "faixas = {1: 'Jovens (18-30)', 2: 'Adultos (31-50)', 3: 'Idosos (51+)'}\n",
    "for codigo, nome in faixas.items():\n",
    "    subset = sub2[sub2['FAIXAETARIA'] == codigo]\n",
    "    com_impacto = len(subset[subset['IMPACTO'] == 1])\n",
    "    total = len(subset)\n",
    "    pct = (com_impacto / total * 100) if total > 0 else 0\n",
    "    print(f\"{nome}: {com_impacto}/{total} ({pct:.1f}%) percebem impacto\")"
   ]
  }
 ],
 "metadata": {
  "language_info": {
   "name": "python"
  }
 },
 "nbformat": 4,
 "nbformat_minor": 5
}
