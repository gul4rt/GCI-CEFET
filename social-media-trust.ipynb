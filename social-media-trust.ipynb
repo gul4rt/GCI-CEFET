{
 "cells": [
  {
   "cell_type": "code",
   "execution_count": null,
   "id": "bea5243b",
   "metadata": {},
   "outputs": [],
   "source": [
    "import pandas\n",
    "import numpy as np\n",
    "import matplotlib.pyplot as plt\n",
    "import seaborn\n",
    "import scipy.stats\n",
    "%matplotlib inline"
   ]
  },
  {
   "cell_type": "markdown",
   "id": "da50f31f",
   "metadata": {},
   "source": [
    "## ANÁLISE CHI-SQUARE: CONFIANÇA NAS REDES SOCIAIS POR FAIXA ETÁRIA"
   ]
  },
  {
   "cell_type": "code",
   "execution_count": null,
   "id": "f612f178",
   "metadata": {},
   "outputs": [],
   "source": [
    "df = pandas.read_csv('dataset.csv')\n",
    "print(f\"Dataset original: {len(df)} registros\")"
   ]
  },
  {
   "cell_type": "markdown",
   "id": "7ed8ae3d",
   "metadata": {},
   "source": [
    "## Limpando possíveis valores incorretos"
   ]
  },
  {
   "cell_type": "code",
   "execution_count": null,
   "id": "9dce684b",
   "metadata": {},
   "outputs": [],
   "source": [
    "df_clean = df[df['Age'] >= 18].copy()\n",
    "print(f\"Após limpeza (idade >= 18): {len(df_clean)} registros\")"
   ]
  },
  {
   "cell_type": "code",
   "execution_count": null,
   "id": "8851e40b",
   "metadata": {},
   "outputs": [],
   "source": [
    "print(df_clean['Trust in Social Media'].value_counts())"
   ]
  },
  {
   "cell_type": "markdown",
   "id": "7617275a",
   "metadata": {},
   "source": [
    "## Criação dos grupos de idade"
   ]
  },
  {
   "cell_type": "code",
   "execution_count": null,
   "id": "99787fc6",
   "metadata": {},
   "outputs": [],
   "source": [
    "def categorizar_idade(idade):\n",
    "    if 18 <= idade <= 30:\n",
    "        return 1  # Jovens\n",
    "    elif 31 <= idade <= 50:\n",
    "        return 2  # Adultos  \n",
    "    elif idade >= 51:\n",
    "        return 3  # Idosos\n",
    "        \n",
    "df_clean['FAIXAETARIA'] = df_clean['Age'].apply(categorizar_idade)"
   ]
  },
  {
   "cell_type": "markdown",
   "id": "88b7b36c",
   "metadata": {},
   "source": [
    "## Análise binária"
   ]
  },
  {
   "cell_type": "code",
   "execution_count": null,
   "id": "5111104e",
   "metadata": {},
   "outputs": [],
   "source": [
    "def categorizar_confianca(confianca):\n",
    "    if confianca in ['Trust a lot', 'Trust somewhat']:\n",
    "        return 1  # Com confiança\n",
    "    elif confianca == 'Do not trust':\n",
    "        return 0  # Sem confiança\n",
    "\n",
    "df_clean['CONFIANCA'] = df_clean['Trust in Social Media'].apply(categorizar_confianca)"
   ]
  },
  {
   "cell_type": "markdown",
   "id": "2a336986",
   "metadata": {},
   "source": [
    "## Limpando NULLs"
   ]
  },
  {
   "cell_type": "code",
   "execution_count": null,
   "id": "9fa869d7",
   "metadata": {},
   "outputs": [],
   "source": [
    "sub2 = df_clean.dropna(subset=['FAIXAETARIA', 'CONFIANCA']).copy()\n",
    "print(f\"Dataset final: {len(sub2)} registros\")"
   ]
  },
  {
   "cell_type": "markdown",
   "id": "604ced7d",
   "metadata": {},
   "source": [
    "## Crosstab"
   ]
  },
  {
   "cell_type": "code",
   "execution_count": null,
   "id": "db9e055c",
   "metadata": {},
   "outputs": [],
   "source": [
    "ct1 = pandas.crosstab(sub2['CONFIANCA'], sub2['FAIXAETARIA'])\n",
    "print(\"\\nTabela de Contingência:\")\n",
    "print(ct1)"
   ]
  },
  {
   "cell_type": "markdown",
   "id": "a796b9d7",
   "metadata": {},
   "source": [
    "## Soma todos os valores por coluna e pego o porcentual por coluna"
   ]
  },
  {
   "cell_type": "code",
   "execution_count": null,
   "id": "c18244bb",
   "metadata": {},
   "outputs": [],
   "source": [
    "colsum = ct1.sum(axis=0)\n",
    "colpct = ct1/colsum\n",
    "\n",
    "print(\"\\nPercentuais por coluna (faixa etária):\")\n",
    "print(colpct)\n",
    "\n",
    "print('\\nValor de Qui-quadrado, Valor p, valores esperados')\n",
    "cs1 = scipy.stats.chi2_contingency(ct1)\n",
    "print(cs1)\n",
    "\n",
    "sub2[\"FAIXAETARIA\"] = sub2[\"FAIXAETARIA\"].astype('category')\n",
    "\n",
    "sub2['CONFIANCA'] = pandas.to_numeric(sub2['CONFIANCA'], errors='coerce')"
   ]
  },
  {
   "cell_type": "markdown",
   "id": "4aaea7ba",
   "metadata": {},
   "source": [
    "## Gráficos"
   ]
  },
  {
   "cell_type": "code",
   "execution_count": null,
   "id": "09903fec",
   "metadata": {},
   "outputs": [],
   "source": [
    "seaborn.catplot(x=\"FAIXAETARIA\", y=\"CONFIANCA\", data=sub2, kind=\"bar\", ci=None)\n",
    "plt.xlabel('Faixa Etária (1=Jovens, 2=Adultos, 3=Idosos)')\n",
    "plt.ylabel('Proporção de Confiança nas Redes Sociais')\n",
    "plt.title('Confiança nas Redes Sociais por Faixa Etária')\n",
    "plt.show()"
   ]
  },
  {
   "cell_type": "markdown",
   "id": "72d5a08a",
   "metadata": {},
   "source": [
    "## Descritivos"
   ]
  },
  {
   "cell_type": "code",
   "execution_count": null,
   "id": "5be0164d",
   "metadata": {},
   "outputs": [],
   "source": [
    "print(\"\\n\" + \"=\"*50)\n",
    "print(\"INTERPRETAÇÃO DOS RESULTADOS\")\n",
    "print(\"=\"*50)\n",
    "\n",
    "chi2_stat, p_value, dof, expected = cs1\n",
    "print(f\"Teste geral (todas as faixas etárias):\")\n",
    "print(f\"Chi-square: {chi2_stat:.4f}\")\n",
    "print(f\"P-valor: {p_value:.6f}\")\n",
    "print(f\"Significativo (p < 0.05): {'SIM' if p_value < 0.05 else 'NÃO'}\")\n",
    "print(f\"Graus de liberdade: {dof}\")\n",
    "\n",
    "if p_value < 0.05:\n",
    "    print(\"\\nHá diferenças estatisticamente significativas na confiança entre as faixas etárias!\")\n",
    "else:\n",
    "    print(\"\\nNão há diferenças estatisticamente significativas na confiança entre as faixas etárias.\")"
   ]
  },
  {
   "cell_type": "code",
   "execution_count": null,
   "id": "1e0518be",
   "metadata": {},
   "outputs": [],
   "source": [
    "print(f\"\\n\" + \"=\"*50)\n",
    "print(\"ESTATÍSTICAS DESCRITIVAS\")\n",
    "print(\"=\"*50)\n",
    "\n",
    "faixas = {1: 'Jovens (18-30)', 2: 'Adultos (31-50)', 3: 'Idosos (51+)'}\n",
    "for codigo, nome in faixas.items():\n",
    "    subset = sub2[sub2['FAIXAETARIA'] == codigo]\n",
    "    com_confianca = len(subset[subset['CONFIANCA'] == 1])\n",
    "    total = len(subset)\n",
    "    pct = (com_confianca / total * 100) if total > 0 else 0\n",
    "    print(f\"{nome}: {com_confianca}/{total} ({pct:.1f}%) têm confiança nas redes sociais\")"
   ]
  }
 ],
 "metadata": {
  "language_info": {
   "name": "python"
  }
 },
 "nbformat": 4,
 "nbformat_minor": 5
}
